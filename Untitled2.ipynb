{
  "nbformat": 4,
  "nbformat_minor": 0,
  "metadata": {
    "colab": {
      "name": "Untitled2.ipynb",
      "provenance": [],
      "include_colab_link": true
    },
    "kernelspec": {
      "name": "python3",
      "display_name": "Python 3"
    }
  },
  "cells": [
    {
      "cell_type": "markdown",
      "metadata": {
        "id": "view-in-github",
        "colab_type": "text"
      },
      "source": [
        "<a href=\"https://colab.research.google.com/github/Sauravskv07/NNFL_Project/blob/master/Untitled2.ipynb\" target=\"_parent\"><img src=\"https://colab.research.google.com/assets/colab-badge.svg\" alt=\"Open In Colab\"/></a>"
      ]
    },
    {
      "cell_type": "code",
      "metadata": {
        "id": "m3aGYNoNveCS",
        "colab_type": "code",
        "colab": {}
      },
      "source": [
        "import numpy as np\n",
        "import keras\n",
        "from keras.models import Sequential\n",
        "from keras.layers import Dense, Dropout, Flatten\n",
        "from keras.layers import Conv2D, MaxPooling2D\n",
        "from keras import optimizers"
      ],
      "execution_count": 0,
      "outputs": []
    },
    {
      "cell_type": "code",
      "metadata": {
        "id": "s6PyLRkQvpZo",
        "colab_type": "code",
        "colab": {}
      },
      "source": [
        "import os\n",
        "import random\n",
        "import gym\n",
        "import imageio\n",
        "import skimage"
      ],
      "execution_count": 0,
      "outputs": []
    },
    {
      "cell_type": "code",
      "metadata": {
        "id": "QIM-Q6DizrMh",
        "colab_type": "code",
        "colab": {}
      },
      "source": [
        "def preprocess_image(img):\n",
        "  img1=skimage.color.rgb2gray(img)\n",
        "  img2=skimage.transform.resize(img,(84,84))\n",
        "  return img2\n"
      ],
      "execution_count": 0,
      "outputs": []
    },
    {
      "cell_type": "code",
      "metadata": {
        "id": "884J2iw9v7hK",
        "colab_type": "code",
        "colab": {}
      },
      "source": [
        "class Network():\n",
        "  def __init__(action_size,learning_rate):\n",
        "    self.learning_rate=learning_rate\n",
        "    self.action_size=action_size  \n",
        "  def buildModel():\n",
        "    model=Sequential()\n",
        "    model.add(Conv2D(32,(8,8),strides=(4,4),activation='relu',input_shape=(84,84,4)))\n",
        "    model.add(Conv2D(64,(4,4),strides=(2,2),activation='relu'))\n",
        "    model.add(Conv2D(64,(3,3),strides=(1,1),activation='relu'))\n",
        "    model.add(Flatten())\n",
        "    model.add(Dense(512,activation='relu'))\n",
        "    model.add(Dense(self.action_size,activation='linear'))\n",
        "    model.compile(losses=keras.losses.mean_squared_error, optimizer=keras.optimizers.RMSprop(lr=learning_rate))"
      ],
      "execution_count": 0,
      "outputs": []
    },
    {
      "cell_type": "code",
      "metadata": {
        "id": "GP4dV5y2Y80d",
        "colab_type": "code",
        "colab": {}
      },
      "source": [
        ""
      ],
      "execution_count": 0,
      "outputs": []
    }
  ]
}